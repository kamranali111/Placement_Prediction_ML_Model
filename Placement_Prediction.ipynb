{
  "nbformat": 4,
  "nbformat_minor": 0,
  "metadata": {
    "colab": {
      "private_outputs": true,
      "provenance": [],
      "gpuType": "T4",
      "authorship_tag": "ABX9TyP6/lyeXz9P/luCXlP69PnV",
      "include_colab_link": true
    },
    "kernelspec": {
      "name": "python3",
      "display_name": "Python 3"
    },
    "language_info": {
      "name": "python"
    },
    "accelerator": "GPU"
  },
  "cells": [
    {
      "cell_type": "markdown",
      "metadata": {
        "id": "view-in-github",
        "colab_type": "text"
      },
      "source": [
        "<a href=\"https://colab.research.google.com/github/atharabbas993/Placement_Prediction_ML_Model/blob/main/Placement_Prediction.ipynb\" target=\"_parent\"><img src=\"https://colab.research.google.com/assets/colab-badge.svg\" alt=\"Open In Colab\"/></a>"
      ]
    },
    {
      "cell_type": "markdown",
      "source": [
        "## Import Libraries"
      ],
      "metadata": {
        "id": "19BVXXYKZxgl"
      }
    },
    {
      "cell_type": "code",
      "source": [
        "#import numpy for numerical computation\n",
        "import numpy as np\n",
        "\n",
        "#import pandas for pre processing, Data Cleaning, EDA, Feature Selection.\n",
        "import pandas as pd\n",
        "\n",
        "#import matplotlib for graphical representation.\n",
        "import matplotlib.pyplot as plt"
      ],
      "metadata": {
        "id": "qdVNy02rZ5KA"
      },
      "execution_count": null,
      "outputs": []
    },
    {
      "cell_type": "markdown",
      "source": [
        "##Load Dataset"
      ],
      "metadata": {
        "id": "XEj2vMZReWQN"
      }
    },
    {
      "cell_type": "code",
      "source": [
        "#use pandas read_csv function to load dataset.\n",
        "\n",
        "data_frame = pd.read_csv('placement_dataset.csv')\n",
        "\n",
        "#Use sample function to randomly access samples from datset.\n",
        "\n",
        "data_frame.sample(5)"
      ],
      "metadata": {
        "id": "znu6xAjOeZH-"
      },
      "execution_count": null,
      "outputs": []
    },
    {
      "cell_type": "markdown",
      "source": [
        "##pre processing"
      ],
      "metadata": {
        "id": "GtceBdvlfUJM"
      }
    },
    {
      "cell_type": "code",
      "source": [
        "#use the info fucntion to provide total information about dataset.\n",
        "\n",
        "data_frame.info()"
      ],
      "metadata": {
        "id": "ChT7eRXze_se"
      },
      "execution_count": null,
      "outputs": []
    },
    {
      "cell_type": "markdown",
      "source": [
        "##Feature Selection"
      ],
      "metadata": {
        "id": "Gm9oiGVmgB3E"
      }
    },
    {
      "cell_type": "code",
      "source": [
        "#By using Iloc function to select manually features.\n",
        "\n",
        "#The left side is used to handle rows and right for columns.\n",
        "\n",
        "data_frame = data_frame.iloc[:, 1:]\n",
        "\n",
        "data_frame"
      ],
      "metadata": {
        "id": "RofLwQZ-gYKe"
      },
      "execution_count": null,
      "outputs": []
    },
    {
      "cell_type": "markdown",
      "source": [
        "##Exploratory Data Analysis"
      ],
      "metadata": {
        "id": "sRGhgIQWiPvZ"
      }
    },
    {
      "cell_type": "code",
      "source": [
        "plt.scatter(data_frame['cgpa'],data_frame['iq'], c = data_frame['placement'])"
      ],
      "metadata": {
        "id": "cLQQ-PY3iVnK"
      },
      "execution_count": null,
      "outputs": []
    },
    {
      "cell_type": "code",
      "source": [
        "data_frame"
      ],
      "metadata": {
        "id": "tMoxGIQbljF4"
      },
      "execution_count": null,
      "outputs": []
    },
    {
      "cell_type": "markdown",
      "source": [
        "##Store Input & Output"
      ],
      "metadata": {
        "id": "kx9J3qLTYs9Y"
      }
    },
    {
      "cell_type": "code",
      "source": [
        "#Now store input and output column on different variables\n",
        "\n",
        "#Input features in x variable\n",
        "\n",
        "x = data_frame.iloc[: , 0:2]\n",
        "y = data_frame.iloc[: , -1]\n"
      ],
      "metadata": {
        "id": "oqXw33eaimtx"
      },
      "execution_count": null,
      "outputs": []
    },
    {
      "cell_type": "markdown",
      "source": [
        "##Split data"
      ],
      "metadata": {
        "id": "BQcAwxjwmt_4"
      }
    },
    {
      "cell_type": "code",
      "source": [
        "#Use machine learning Sklearn Library to split data into training and testing\n",
        "\n",
        "from sklearn.model_selection import train_test_split\n",
        "\n",
        "#The data are stored in two varibles x, y so we need to use four variable\n",
        "\n",
        "\n",
        "x_train, x_test, y_train, y_test = train_test_split(x, y, test_size = 0.2, random_state = 42 )\n",
        "\n",
        "#80% training data and 20% test data\n",
        "\n",
        "x_train\n",
        "\n"
      ],
      "metadata": {
        "id": "M059jUopmweV"
      },
      "execution_count": null,
      "outputs": []
    },
    {
      "cell_type": "markdown",
      "source": [
        "#Feature Scaling"
      ],
      "metadata": {
        "id": "5ceiVvnmvT1s"
      }
    },
    {
      "cell_type": "code",
      "source": [
        "from sklearn.preprocessing import StandardScaler\n",
        "\n",
        "#Create object of the StandScalar class to use its functions and parameters.\n",
        "\n",
        "scaler = StandardScaler()"
      ],
      "metadata": {
        "id": "sRiv9itmrm4a"
      },
      "execution_count": null,
      "outputs": []
    },
    {
      "cell_type": "code",
      "source": [
        "#perfrom the scaling method on input_train_data ( x_train )\n",
        "\n",
        "#we can perform fit_transform only on training data\n",
        "\n",
        "x_train = scaler.fit_transform(x_train)\n",
        "\n",
        "x_train"
      ],
      "metadata": {
        "id": "GoBotvhSwg5B"
      },
      "execution_count": null,
      "outputs": []
    },
    {
      "cell_type": "code",
      "source": [
        "x_test = scaler.transform(x_test)\n",
        "x_test"
      ],
      "metadata": {
        "id": "LchrhTNNUQa0"
      },
      "execution_count": null,
      "outputs": []
    },
    {
      "cell_type": "markdown",
      "source": [
        "##Train Model"
      ],
      "metadata": {
        "id": "X4qXEIVRaUfs"
      }
    },
    {
      "cell_type": "code",
      "source": [
        "from sklearn.linear_model import LogisticRegression\n",
        "\n",
        "#Now let's create object of LogisticRegression class to use it's parameter and fucntions.\n",
        "\n",
        "model = LogisticRegression()\n",
        "\n",
        "#Feed the train data to model\n",
        "\n",
        "model.fit(x_train, y_train)"
      ],
      "metadata": {
        "id": "uW5IV5m7aZZ-"
      },
      "execution_count": null,
      "outputs": []
    },
    {
      "cell_type": "markdown",
      "source": [
        "##Prediction"
      ],
      "metadata": {
        "id": "Mq7WCyYTVRfD"
      }
    },
    {
      "cell_type": "code",
      "source": [
        "prediction = model.predict(x_test)\n",
        "\n",
        "prediction\n",
        "\n"
      ],
      "metadata": {
        "id": "-TLgyintVUgl"
      },
      "execution_count": null,
      "outputs": []
    },
    {
      "cell_type": "markdown",
      "source": [
        "##Accuracy Score"
      ],
      "metadata": {
        "id": "oAv7jUju15mq"
      }
    },
    {
      "cell_type": "code",
      "source": [
        "from sklearn.metrics import accuracy_score\n",
        "\n",
        "#Pass the Actual and predicted output\n",
        "\n",
        "accuracy_score(y_test, prediction)\n"
      ],
      "metadata": {
        "id": "taF1tUFMVgNN"
      },
      "execution_count": null,
      "outputs": []
    },
    {
      "cell_type": "markdown",
      "source": [
        "##Decision Boundry"
      ],
      "metadata": {
        "id": "tttTbOxP2kSK"
      }
    },
    {
      "cell_type": "code",
      "source": [
        "from mlxtend.plotting import plot_decision_regions\n",
        "\n",
        "plot_decision_regions(x_train, y_train.values, clf=model, legend=2)"
      ],
      "metadata": {
        "id": "llSDgB082nWl"
      },
      "execution_count": null,
      "outputs": []
    },
    {
      "cell_type": "markdown",
      "source": [
        "##Pickle"
      ],
      "metadata": {
        "id": "eK1yvOMj3-9_"
      }
    },
    {
      "cell_type": "code",
      "source": [
        "import pickle\n",
        "\n",
        "pickle.dump(model, open('Placement_Prediction.pkl', 'wb'))"
      ],
      "metadata": {
        "id": "0Rf_jOpf4COQ"
      },
      "execution_count": null,
      "outputs": []
    }
  ]
}